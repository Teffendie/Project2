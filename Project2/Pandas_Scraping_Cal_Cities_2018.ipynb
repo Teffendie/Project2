{
 "cells": [
  {
   "cell_type": "markdown",
   "metadata": {
    "slideshow": {
     "slide_type": "slide"
    }
   },
   "source": [
    "# Scraping with Pandas save to CSV for Tableau"
   ]
  },
  {
   "cell_type": "code",
   "execution_count": 1,
   "metadata": {
    "slideshow": {
     "slide_type": "slide"
    }
   },
   "outputs": [],
   "source": [
    "import pandas as pd"
   ]
  },
  {
   "cell_type": "markdown",
   "metadata": {
    "slideshow": {
     "slide_type": "subslide"
    }
   },
   "source": [
    "We can use the `read_html` function in Pandas to automatically scrape any tabular data from a page."
   ]
  },
  {
   "cell_type": "code",
   "execution_count": 2,
   "metadata": {
    "slideshow": {
     "slide_type": "fragment"
    }
   },
   "outputs": [],
   "source": [
    "url = 'https://en.wikipedia.org/wiki/List_of_largest_California_cities_by_population'"
   ]
  },
  {
   "cell_type": "code",
   "execution_count": 3,
   "metadata": {
    "slideshow": {
     "slide_type": "fragment"
    }
   },
   "outputs": [
    {
     "data": {
      "text/plain": [
       "[                0                 1                         2               3  \\\n",
       " 0    2018 Rank[1]              City  Population(2018 est.)[1]          County   \n",
       " 1               1       Los Angeles                   3990456     Los Angeles   \n",
       " 2               2         San Diego                   1425976       San Diego   \n",
       " 3               3          San Jose                   1030119     Santa Clara   \n",
       " 4               4     San Francisco                    883305   San Francisco   \n",
       " 5               5            Fresno                    530093          Fresno   \n",
       " 6               6        Sacramento                    508529      Sacramento   \n",
       " 7               7        Long Beach                    467354     Los Angeles   \n",
       " 8               8           Oakland                    429082         Alameda   \n",
       " 9               9       Bakersfield                    383579            Kern   \n",
       " 10             10           Anaheim                    352005          Orange   \n",
       " 11             11         Santa Ana                    332725          Orange   \n",
       " 12             12         Riverside                    330063       Riverside   \n",
       " 13             13          Stockton                    311178     San Joaquin   \n",
       " 14             14            Irvine                    282572          Orange   \n",
       " 15             15       Chula Vista                    271651       San Diego   \n",
       " 16             16           Fremont                    237807         Alameda   \n",
       " 17             17    San Bernardino                    215941  San Bernardino   \n",
       " 18             18           Modesto                    215030      Stanislaus   \n",
       " 19             19           Fontana                    213739  San Bernardino   \n",
       " 20             20     Santa Clarita                    210089     Los Angeles   \n",
       " 21             21            Oxnard                    209877         Ventura   \n",
       " 22             22     Moreno Valley                    209050       Riverside   \n",
       " 23             23          Glendale                    201361     Los Angeles   \n",
       " 24             24  Huntington Beach                    200641          Orange   \n",
       " 25             25           Ontario                    181107  San Bernardino   \n",
       " 26             26  Rancho Cucamonga                    177751  San Bernardino   \n",
       " 27             27        Santa Rosa                    177586          Sonoma   \n",
       " 28             28         Oceanside                    176080       San Diego   \n",
       " 29             29         Elk Grove                    172886      Sacramento   \n",
       " ..            ...               ...                       ...             ...   \n",
       " 71             71            Rialto                    103440  San Bernardino   \n",
       " 72             72          El Cajon                    103241       San Diego   \n",
       " 73             73             Vista                    101224       San Diego   \n",
       " 74             74         Vacaville                    100154          Solano   \n",
       " 75             75        San Marcos                     96847       San Diego   \n",
       " 76             76           Compton                     96617     Los Angeles   \n",
       " 77             77          Hesperia                     95274  San Bernardino   \n",
       " 78             78     Mission Viejo                     95202          Orange   \n",
       " 79             79             Chico                     94776           Butte   \n",
       " 80             80        South Gate                     94443     Los Angeles   \n",
       " 81             81           Menifee                     92595       Riverside   \n",
       " 82             82            Carson                     91909     Los Angeles   \n",
       " 83             83             Tracy                     91812     San Joaquin   \n",
       " 84             84           Redding                     91772          Shasta   \n",
       " 85             85             Chino                     91583  San Bernardino   \n",
       " 86             86      Santa Monica                     91411     Los Angeles   \n",
       " 87             87     Santa Barbara                     91350   Santa Barbara   \n",
       " 88             88             Indio                     91240       Riverside   \n",
       " 89             89       Westminster                     90938          Orange   \n",
       " 90             90         Livermore                     90269         Alameda   \n",
       " 91             91       San Leandro                     89703         Alameda   \n",
       " 92             92    Citrus Heights                     87910      Sacramento   \n",
       " 93             93         Hawthorne                     86965     Los Angeles   \n",
       " 94             94      Redwood City                     86200       San Mateo   \n",
       " 95             95          Whittier                     86064     Los Angeles   \n",
       " 96             96       Lake Forest                     85623          Orange   \n",
       " 97             97     Newport Beach                     85326          Orange   \n",
       " 98             98             Hemet                     85275       Riverside   \n",
       " 99             99          Alhambra                     84649     Los Angeles   \n",
       " 100           100       Chino Hills                     83447  San Bernardino   \n",
       " \n",
       "          4                                                  5  \n",
       " 0    Image                                        Description  \n",
       " 1      NaN  Los Angeles is one of the world's centers of m...  \n",
       " 2      NaN  San Diego sits in the extreme south of Califor...  \n",
       " 3      NaN  San Jose was founded on November 29, 1777, as ...  \n",
       " 4      NaN  San Francisco is a popular international touri...  \n",
       " 5      NaN  Fresno is at the heart of the San Joaquin Vall...  \n",
       " 6      NaN  Sacramento has been the state capital of Calif...  \n",
       " 7      NaN  Long Beach is a coastal city in the Greater Lo...  \n",
       " 8      NaN  Oakland is a major West Coast port and is home...  \n",
       " 9      NaN  Bakersfield sits at the southern end of the Sa...  \n",
       " 10     NaN  Anaheim is the most populous city in Orange Co...  \n",
       " 11     NaN  Santa Ana is the county seat of Orange County ...  \n",
       " 12     NaN  Riverside is the most populous city of Souther...  \n",
       " 13     NaN  Stockton is at the heart of the Sacramento–San...  \n",
       " 14     NaN  Irvine is a planned city, mainly developed by ...  \n",
       " 15     NaN  A South Bay suburban city of San Diego, Chula ...  \n",
       " 16     NaN  Fremont was created as a single city in 1956, ...  \n",
       " 17     NaN  San Bernardino is the second-largest city in t...  \n",
       " 18     NaN  Modesto is in the center of the Central Valley...  \n",
       " 19     NaN  Founded in 1913, Fontana remained rural until ...  \n",
       " 20     NaN  Six Flags Magic Mountain is just outside Santa...  \n",
       " 21     NaN  Oxnard is one of only a handful of cities in t...  \n",
       " 22     NaN  Incorporated in 1984, Moreno Valley lies 65 mi...  \n",
       " 23     NaN  Glendale is the focal point of the Verdugo Mou...  \n",
       " 24     NaN  This Orange County coastal city is best known ...  \n",
       " 25     NaN  Ontario is a principal city of the Inland Empi...  \n",
       " 26     NaN  Rancho Cucamonga was incorporated in 1977, as ...  \n",
       " 27     NaN  Santa Rosa is the largest city in California's...  \n",
       " 28     NaN  The largest city in San Diego's North County, ...  \n",
       " 29     NaN  Elk Grove was a sleepy suburb of Sacramento un...  \n",
       " ..     ...                                                ...  \n",
       " 71     NaN  Rialto is home to three major regional distrib...  \n",
       " 72     NaN  El Cajon is located east of San Diego. Nestled...  \n",
       " 73     NaN  Vista is located just 7 miles (11 km) inland f...  \n",
       " 74     NaN  Vacaville is located nearly halfway between Sa...  \n",
       " 75     NaN  San Marcos is a North County suburb of San Die...  \n",
       " 76     NaN  An inner suburb of Los Angeles, Compton is kno...  \n",
       " 77     NaN  Hesperia is located in the High Desert region ...  \n",
       " 78     NaN  Located in southern Orange County in the Saddl...  \n",
       " 79     NaN  Chico is the retail hub of the mid-Sacramento ...  \n",
       " 80     NaN  Located southeast of downtown Los Angeles, Sou...  \n",
       " 81     NaN  Menifee, located in southwestern Riverside Cou...  \n",
       " 82     NaN  Carson is a suburb in the South Bay region of ...  \n",
       " 83     NaN  Tracy is the second most populated city in San...  \n",
       " 84     NaN  Located on the banks of the Sacramento River, ...  \n",
       " 85     NaN  Chino and its surroundings have long been a ce...  \n",
       " 86     NaN  Santa Monica, a famed beachfront city surround...  \n",
       " 87     NaN  Santa Barbara is a popular tourist and resort ...  \n",
       " 88     NaN  Indio is located in the Coachella Valley regio...  \n",
       " 89     NaN  Westminster is known for its Vietnamese Americ...  \n",
       " 90     NaN  Located on the eastern edge of San Francisco B...  \n",
       " 91     NaN  Historically a town with dozens of huge cherry...  \n",
       " 92     NaN  Citrus Heights is a suburb located northeast o...  \n",
       " 93     NaN  Hawthorne is a suburb of Los Angeles. It was t...  \n",
       " 94     NaN  Redwood City, the county seat of San Mateo Cou...  \n",
       " 95     NaN  Whittier is part of the Gateway Cities of Los ...  \n",
       " 96     NaN  Lake Forest, in inland Orange County, is prima...  \n",
       " 97     NaN  Newport Beach is an affluent coastal city in O...  \n",
       " 98     NaN  Hemet, in the San Jacinto Valley, is the home ...  \n",
       " 99     NaN  Alhambra is located in the western San Gabriel...  \n",
       " 100    NaN  Chino Hills, located in the extreme southweste...  \n",
       " \n",
       " [101 rows x 6 columns],\n",
       "                          0                                                  1  \\\n",
       " 0  vte State of California                                                NaN   \n",
       " 1     Sacramento (capital)                                                NaN   \n",
       " 2                   Topics  Culture Food Music Myth Sports Demographics Ea...   \n",
       " 3                  Regions  Antelope Valley Big Sur California Coast Range...   \n",
       " 4            Metro regions  Metropolitan Fresno Los Angeles metropolitan a...   \n",
       " 5                 Counties  Alameda Alpine Amador Butte Calaveras Colusa C...   \n",
       " 6      Most populouscities  Los Angeles San Diego San Jose San Francisco F...   \n",
       " \n",
       "     2  \n",
       " 0 NaN  \n",
       " 1 NaN  \n",
       " 2 NaN  \n",
       " 3 NaN  \n",
       " 4 NaN  \n",
       " 5 NaN  \n",
       " 6 NaN  ,\n",
       "                                                    0  \\\n",
       " 0  vteLists of cities in the United States by sta...   \n",
       " 1                                             States   \n",
       " 2                                 D.C. & territories   \n",
       " 3                                      By population   \n",
       " 4                                            By area   \n",
       " \n",
       "                                                    1  \n",
       " 0                                                NaN  \n",
       " 1  Alabama Alaska Arizona Arkansas California Col...  \n",
       " 2  District of Columbia American Samoa Guam North...  \n",
       " 3  California Connecticut Iowa Michigan New Mexic...  \n",
       " 4                                         California  ]"
      ]
     },
     "execution_count": 3,
     "metadata": {},
     "output_type": "execute_result"
    }
   ],
   "source": [
    "tables = pd.read_html(url)\n",
    "tables"
   ]
  },
  {
   "cell_type": "markdown",
   "metadata": {
    "slideshow": {
     "slide_type": "subslide"
    }
   },
   "source": [
    "What we get in return is a list of dataframes for any tabular data that Pandas found."
   ]
  },
  {
   "cell_type": "code",
   "execution_count": 5,
   "metadata": {
    "slideshow": {
     "slide_type": "fragment"
    }
   },
   "outputs": [
    {
     "data": {
      "text/plain": [
       "list"
      ]
     },
     "execution_count": 5,
     "metadata": {},
     "output_type": "execute_result"
    }
   ],
   "source": [
    "type(tables)"
   ]
  },
  {
   "cell_type": "markdown",
   "metadata": {
    "slideshow": {
     "slide_type": "subslide"
    }
   },
   "source": [
    "We can slice off any of those dataframes that we want using normal indexing."
   ]
  },
  {
   "cell_type": "code",
   "execution_count": 11,
   "metadata": {},
   "outputs": [
    {
     "data": {
      "text/html": [
       "<div>\n",
       "<style scoped>\n",
       "    .dataframe tbody tr th:only-of-type {\n",
       "        vertical-align: middle;\n",
       "    }\n",
       "\n",
       "    .dataframe tbody tr th {\n",
       "        vertical-align: top;\n",
       "    }\n",
       "\n",
       "    .dataframe thead th {\n",
       "        text-align: right;\n",
       "    }\n",
       "</style>\n",
       "<table border=\"1\" class=\"dataframe\">\n",
       "  <thead>\n",
       "    <tr style=\"text-align: right;\">\n",
       "      <th></th>\n",
       "      <th>2018 Rank</th>\n",
       "      <th>Population 2018</th>\n",
       "      <th>County</th>\n",
       "      <th>Image</th>\n",
       "      <th>Description</th>\n",
       "    </tr>\n",
       "    <tr>\n",
       "      <th>City</th>\n",
       "      <th></th>\n",
       "      <th></th>\n",
       "      <th></th>\n",
       "      <th></th>\n",
       "      <th></th>\n",
       "    </tr>\n",
       "  </thead>\n",
       "  <tbody>\n",
       "    <tr>\n",
       "      <th>Los Angeles</th>\n",
       "      <td>1</td>\n",
       "      <td>3990456</td>\n",
       "      <td>Los Angeles</td>\n",
       "      <td>NaN</td>\n",
       "      <td>Los Angeles is one of the world's centers of m...</td>\n",
       "    </tr>\n",
       "    <tr>\n",
       "      <th>San Diego</th>\n",
       "      <td>2</td>\n",
       "      <td>1425976</td>\n",
       "      <td>San Diego</td>\n",
       "      <td>NaN</td>\n",
       "      <td>San Diego sits in the extreme south of Califor...</td>\n",
       "    </tr>\n",
       "    <tr>\n",
       "      <th>San Jose</th>\n",
       "      <td>3</td>\n",
       "      <td>1030119</td>\n",
       "      <td>Santa Clara</td>\n",
       "      <td>NaN</td>\n",
       "      <td>San Jose was founded on November 29, 1777, as ...</td>\n",
       "    </tr>\n",
       "    <tr>\n",
       "      <th>San Francisco</th>\n",
       "      <td>4</td>\n",
       "      <td>883305</td>\n",
       "      <td>San Francisco</td>\n",
       "      <td>NaN</td>\n",
       "      <td>San Francisco is a popular international touri...</td>\n",
       "    </tr>\n",
       "    <tr>\n",
       "      <th>Fresno</th>\n",
       "      <td>5</td>\n",
       "      <td>530093</td>\n",
       "      <td>Fresno</td>\n",
       "      <td>NaN</td>\n",
       "      <td>Fresno is at the heart of the San Joaquin Vall...</td>\n",
       "    </tr>\n",
       "  </tbody>\n",
       "</table>\n",
       "</div>"
      ],
      "text/plain": [
       "              2018 Rank Population 2018         County Image  \\\n",
       "City                                                           \n",
       "Los Angeles           1         3990456    Los Angeles   NaN   \n",
       "San Diego             2         1425976      San Diego   NaN   \n",
       "San Jose              3         1030119    Santa Clara   NaN   \n",
       "San Francisco         4          883305  San Francisco   NaN   \n",
       "Fresno                5          530093         Fresno   NaN   \n",
       "\n",
       "                                                     Description  \n",
       "City                                                              \n",
       "Los Angeles    Los Angeles is one of the world's centers of m...  \n",
       "San Diego      San Diego sits in the extreme south of Califor...  \n",
       "San Jose       San Jose was founded on November 29, 1777, as ...  \n",
       "San Francisco  San Francisco is a popular international touri...  \n",
       "Fresno         Fresno is at the heart of the San Joaquin Vall...  "
      ]
     },
     "execution_count": 11,
     "metadata": {},
     "output_type": "execute_result"
    }
   ],
   "source": [
    "df = tables[0]\n",
    "df.columns = ['2018 Rank', 'City', 'Population 2018', 'County', 'Image','Description']\n",
    "df = df.iloc[1:]\n",
    "df.set_index('City', inplace=True)\n",
    "df.head()"
   ]
  },
  {
   "cell_type": "code",
   "execution_count": 12,
   "metadata": {
    "slideshow": {
     "slide_type": "subslide"
    }
   },
   "outputs": [
    {
     "data": {
      "text/plain": [
       "2018 Rank                                                          1\n",
       "Population 2018                                              3990456\n",
       "County                                                   Los Angeles\n",
       "Image                                                            NaN\n",
       "Description        Los Angeles is one of the world's centers of m...\n",
       "Name: Los Angeles, dtype: object"
      ]
     },
     "execution_count": 12,
     "metadata": {},
     "output_type": "execute_result"
    }
   ],
   "source": [
    "df.loc['Los Angeles']"
   ]
  },
  {
   "cell_type": "code",
   "execution_count": 15,
   "metadata": {},
   "outputs": [],
   "source": [
    "df.to_csv (r'C:\\Users\\Teffe\\Desktop\\UCD\\Project2\\Data\\CalCitiesPop2018.csv', header=True)"
   ]
  }
 ],
 "metadata": {
  "celltoolbar": "Slideshow",
  "kernelspec": {
   "display_name": "Python 3",
   "language": "python",
   "name": "python3"
  },
  "language_info": {
   "codemirror_mode": {
    "name": "ipython",
    "version": 3
   },
   "file_extension": ".py",
   "mimetype": "text/x-python",
   "name": "python",
   "nbconvert_exporter": "python",
   "pygments_lexer": "ipython3",
   "version": "3.7.1"
  },
  "varInspector": {
   "cols": {
    "lenName": 16,
    "lenType": 16,
    "lenVar": 40
   },
   "kernels_config": {
    "python": {
     "delete_cmd_postfix": "",
     "delete_cmd_prefix": "del ",
     "library": "var_list.py",
     "varRefreshCmd": "print(var_dic_list())"
    },
    "r": {
     "delete_cmd_postfix": ") ",
     "delete_cmd_prefix": "rm(",
     "library": "var_list.r",
     "varRefreshCmd": "cat(var_dic_list()) "
    }
   },
   "types_to_exclude": [
    "module",
    "function",
    "builtin_function_or_method",
    "instance",
    "_Feature"
   ],
   "window_display": false
  }
 },
 "nbformat": 4,
 "nbformat_minor": 2
}
